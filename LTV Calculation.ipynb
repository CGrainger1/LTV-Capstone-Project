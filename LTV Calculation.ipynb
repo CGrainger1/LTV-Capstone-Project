{
 "cells": [
  {
   "cell_type": "code",
   "execution_count": 10,
   "id": "a5b07364",
   "metadata": {},
   "outputs": [
    {
     "data": {
      "text/html": [
       "<div>\n",
       "<style scoped>\n",
       "    .dataframe tbody tr th:only-of-type {\n",
       "        vertical-align: middle;\n",
       "    }\n",
       "\n",
       "    .dataframe tbody tr th {\n",
       "        vertical-align: top;\n",
       "    }\n",
       "\n",
       "    .dataframe thead th {\n",
       "        text-align: right;\n",
       "    }\n",
       "</style>\n",
       "<table border=\"1\" class=\"dataframe\">\n",
       "  <thead>\n",
       "    <tr style=\"text-align: right;\">\n",
       "      <th></th>\n",
       "      <th>CustomerID</th>\n",
       "      <th>Transaction_ID</th>\n",
       "      <th>Transaction_Date</th>\n",
       "      <th>Product_SKU</th>\n",
       "      <th>Product_Description</th>\n",
       "      <th>Product_Category</th>\n",
       "      <th>Quantity</th>\n",
       "      <th>Avg_Price</th>\n",
       "      <th>Delivery_Charges</th>\n",
       "      <th>Coupon_Status</th>\n",
       "    </tr>\n",
       "  </thead>\n",
       "  <tbody>\n",
       "    <tr>\n",
       "      <th>0</th>\n",
       "      <td>17850</td>\n",
       "      <td>16679</td>\n",
       "      <td>1/1/2019</td>\n",
       "      <td>GGOENEBJ079499</td>\n",
       "      <td>Nest Learning Thermostat 3rd Gen-USA - Stainle...</td>\n",
       "      <td>Nest-USA</td>\n",
       "      <td>1</td>\n",
       "      <td>153.71</td>\n",
       "      <td>6.5</td>\n",
       "      <td>Used</td>\n",
       "    </tr>\n",
       "    <tr>\n",
       "      <th>1</th>\n",
       "      <td>17850</td>\n",
       "      <td>16680</td>\n",
       "      <td>1/1/2019</td>\n",
       "      <td>GGOENEBJ079499</td>\n",
       "      <td>Nest Learning Thermostat 3rd Gen-USA - Stainle...</td>\n",
       "      <td>Nest-USA</td>\n",
       "      <td>1</td>\n",
       "      <td>153.71</td>\n",
       "      <td>6.5</td>\n",
       "      <td>Used</td>\n",
       "    </tr>\n",
       "  </tbody>\n",
       "</table>\n",
       "</div>"
      ],
      "text/plain": [
       "   CustomerID  Transaction_ID Transaction_Date     Product_SKU  \\\n",
       "0       17850           16679         1/1/2019  GGOENEBJ079499   \n",
       "1       17850           16680         1/1/2019  GGOENEBJ079499   \n",
       "\n",
       "                                 Product_Description Product_Category  \\\n",
       "0  Nest Learning Thermostat 3rd Gen-USA - Stainle...         Nest-USA   \n",
       "1  Nest Learning Thermostat 3rd Gen-USA - Stainle...         Nest-USA   \n",
       "\n",
       "   Quantity  Avg_Price  Delivery_Charges Coupon_Status  \n",
       "0         1     153.71               6.5          Used  \n",
       "1         1     153.71               6.5          Used  "
      ]
     },
     "execution_count": 10,
     "metadata": {},
     "output_type": "execute_result"
    }
   ],
   "source": [
    "import pandas as pd\n",
    "Sales = pd.read_csv('../LTV-Capstone-Project/Data/Online_Sales.csv')\n",
    "Sales.head(2)"
   ]
  },
  {
   "cell_type": "code",
   "execution_count": 39,
   "id": "7356a55d",
   "metadata": {},
   "outputs": [
    {
     "data": {
      "text/plain": [
       "Index(['CustomerID', 'Transaction_ID', 'Transaction_Date', 'Product_SKU',\n",
       "       'Product_Description', 'Product_Category', 'Quantity', 'Avg_Price',\n",
       "       'Delivery_Charges', 'Coupon_Status'],\n",
       "      dtype='object')"
      ]
     },
     "execution_count": 39,
     "metadata": {},
     "output_type": "execute_result"
    }
   ],
   "source": [
    "Sales.columns"
   ]
  },
  {
   "cell_type": "code",
   "execution_count": 12,
   "id": "c6e0cf1b",
   "metadata": {},
   "outputs": [
    {
     "data": {
      "text/html": [
       "<div>\n",
       "<style scoped>\n",
       "    .dataframe tbody tr th:only-of-type {\n",
       "        vertical-align: middle;\n",
       "    }\n",
       "\n",
       "    .dataframe tbody tr th {\n",
       "        vertical-align: top;\n",
       "    }\n",
       "\n",
       "    .dataframe thead th {\n",
       "        text-align: right;\n",
       "    }\n",
       "</style>\n",
       "<table border=\"1\" class=\"dataframe\">\n",
       "  <thead>\n",
       "    <tr style=\"text-align: right;\">\n",
       "      <th></th>\n",
       "      <th>Date</th>\n",
       "      <th>Offline_Spend</th>\n",
       "      <th>Online_Spend</th>\n",
       "    </tr>\n",
       "  </thead>\n",
       "  <tbody>\n",
       "    <tr>\n",
       "      <th>0</th>\n",
       "      <td>1/1/2019</td>\n",
       "      <td>4500</td>\n",
       "      <td>2424.50</td>\n",
       "    </tr>\n",
       "    <tr>\n",
       "      <th>1</th>\n",
       "      <td>1/2/2019</td>\n",
       "      <td>4500</td>\n",
       "      <td>3480.36</td>\n",
       "    </tr>\n",
       "  </tbody>\n",
       "</table>\n",
       "</div>"
      ],
      "text/plain": [
       "       Date  Offline_Spend  Online_Spend\n",
       "0  1/1/2019           4500       2424.50\n",
       "1  1/2/2019           4500       3480.36"
      ]
     },
     "execution_count": 12,
     "metadata": {},
     "output_type": "execute_result"
    }
   ],
   "source": [
    "\n",
    "Marketing_Spend = pd.read_csv('../LTV-Capstone-Project/Data/Marketing_Spend.csv')\n",
    "Marketing_Spend.head(2)"
   ]
  },
  {
   "cell_type": "code",
   "execution_count": 33,
   "id": "ec04b942",
   "metadata": {},
   "outputs": [
    {
     "data": {
      "text/html": [
       "<div>\n",
       "<style scoped>\n",
       "    .dataframe tbody tr th:only-of-type {\n",
       "        vertical-align: middle;\n",
       "    }\n",
       "\n",
       "    .dataframe tbody tr th {\n",
       "        vertical-align: top;\n",
       "    }\n",
       "\n",
       "    .dataframe thead th {\n",
       "        text-align: right;\n",
       "    }\n",
       "</style>\n",
       "<table border=\"1\" class=\"dataframe\">\n",
       "  <thead>\n",
       "    <tr style=\"text-align: right;\">\n",
       "      <th></th>\n",
       "      <th>Month</th>\n",
       "      <th>Product_Category</th>\n",
       "      <th>Coupon_Code</th>\n",
       "      <th>Discount_pct</th>\n",
       "    </tr>\n",
       "  </thead>\n",
       "  <tbody>\n",
       "    <tr>\n",
       "      <th>0</th>\n",
       "      <td>Jan</td>\n",
       "      <td>Apparel</td>\n",
       "      <td>SALE10</td>\n",
       "      <td>10</td>\n",
       "    </tr>\n",
       "    <tr>\n",
       "      <th>1</th>\n",
       "      <td>Feb</td>\n",
       "      <td>Apparel</td>\n",
       "      <td>SALE20</td>\n",
       "      <td>20</td>\n",
       "    </tr>\n",
       "  </tbody>\n",
       "</table>\n",
       "</div>"
      ],
      "text/plain": [
       "  Month Product_Category Coupon_Code  Discount_pct\n",
       "0   Jan          Apparel      SALE10            10\n",
       "1   Feb          Apparel      SALE20            20"
      ]
     },
     "execution_count": 33,
     "metadata": {},
     "output_type": "execute_result"
    }
   ],
   "source": [
    "Coupon = pd.read_csv('../LTV-Capstone-Project/Data/Discount_Coupon.csv')\n",
    "Coupon .head(2)"
   ]
  },
  {
   "cell_type": "code",
   "execution_count": 44,
   "id": "996cea4f",
   "metadata": {},
   "outputs": [
    {
     "data": {
      "text/plain": [
       "Index(['Month', 'Product_Category', 'Coupon_Code', 'Discount_pct'], dtype='object')"
      ]
     },
     "execution_count": 44,
     "metadata": {},
     "output_type": "execute_result"
    }
   ],
   "source": [
    "Coupon.columns"
   ]
  },
  {
   "cell_type": "code",
   "execution_count": 35,
   "id": "a73ee800",
   "metadata": {},
   "outputs": [
    {
     "name": "stdout",
     "output_type": "stream",
     "text": [
      "[10 20 30]\n"
     ]
    }
   ],
   "source": [
    "print(Coupon['Discount_pct'].unique())"
   ]
  },
  {
   "cell_type": "code",
   "execution_count": 18,
   "id": "950fe4a2",
   "metadata": {},
   "outputs": [
    {
     "name": "stdout",
     "output_type": "stream",
     "text": [
      "Collecting xlrd\n",
      "  Downloading xlrd-2.0.2-py2.py3-none-any.whl.metadata (3.5 kB)\n",
      "Downloading xlrd-2.0.2-py2.py3-none-any.whl (96 kB)\n",
      "Installing collected packages: xlrd\n",
      "Successfully installed xlrd-2.0.2\n",
      "Note: you may need to restart the kernel to use updated packages.\n"
     ]
    }
   ],
   "source": [
    "pip install xlrd"
   ]
  },
  {
   "cell_type": "code",
   "execution_count": 59,
   "id": "07f49098",
   "metadata": {},
   "outputs": [
    {
     "data": {
      "text/html": [
       "<div>\n",
       "<style scoped>\n",
       "    .dataframe tbody tr th:only-of-type {\n",
       "        vertical-align: middle;\n",
       "    }\n",
       "\n",
       "    .dataframe tbody tr th {\n",
       "        vertical-align: top;\n",
       "    }\n",
       "\n",
       "    .dataframe thead th {\n",
       "        text-align: right;\n",
       "    }\n",
       "</style>\n",
       "<table border=\"1\" class=\"dataframe\">\n",
       "  <thead>\n",
       "    <tr style=\"text-align: right;\">\n",
       "      <th></th>\n",
       "      <th>CustomerID</th>\n",
       "      <th>Gender</th>\n",
       "      <th>Location</th>\n",
       "      <th>Tenure_Months</th>\n",
       "    </tr>\n",
       "  </thead>\n",
       "  <tbody>\n",
       "    <tr>\n",
       "      <th>0</th>\n",
       "      <td>17850</td>\n",
       "      <td>M</td>\n",
       "      <td>Chicago</td>\n",
       "      <td>12</td>\n",
       "    </tr>\n",
       "    <tr>\n",
       "      <th>1</th>\n",
       "      <td>13047</td>\n",
       "      <td>M</td>\n",
       "      <td>California</td>\n",
       "      <td>43</td>\n",
       "    </tr>\n",
       "  </tbody>\n",
       "</table>\n",
       "</div>"
      ],
      "text/plain": [
       "   CustomerID Gender    Location  Tenure_Months\n",
       "0       17850      M     Chicago             12\n",
       "1       13047      M  California             43"
      ]
     },
     "execution_count": 59,
     "metadata": {},
     "output_type": "execute_result"
    }
   ],
   "source": [
    "CustomersData = pd.read_excel('../LTV-Capstone-Project/Data/CustomersData.xlsx', engine='openpyxl')\n",
    "CustomersData.head(2)"
   ]
  },
  {
   "cell_type": "code",
   "execution_count": 36,
   "id": "9e875bcb",
   "metadata": {},
   "outputs": [
    {
     "data": {
      "text/plain": [
       "Index(['CustomerID', 'Gender', 'Location', 'Tenure_Months'], dtype='object')"
      ]
     },
     "execution_count": 36,
     "metadata": {},
     "output_type": "execute_result"
    }
   ],
   "source": [
    "CustomersData.columns"
   ]
  },
  {
   "cell_type": "code",
   "execution_count": 29,
   "id": "2f4f6708",
   "metadata": {},
   "outputs": [
    {
     "name": "stdout",
     "output_type": "stream",
     "text": [
      "['Chicago' 'California' 'New York' 'New Jersey' 'Washington DC']\n"
     ]
    }
   ],
   "source": [
    "print(CustomersData['Location'].unique())"
   ]
  },
  {
   "cell_type": "code",
   "execution_count": 41,
   "id": "9602f05b",
   "metadata": {},
   "outputs": [
    {
     "data": {
      "text/html": [
       "<div>\n",
       "<style scoped>\n",
       "    .dataframe tbody tr th:only-of-type {\n",
       "        vertical-align: middle;\n",
       "    }\n",
       "\n",
       "    .dataframe tbody tr th {\n",
       "        vertical-align: top;\n",
       "    }\n",
       "\n",
       "    .dataframe thead th {\n",
       "        text-align: right;\n",
       "    }\n",
       "</style>\n",
       "<table border=\"1\" class=\"dataframe\">\n",
       "  <thead>\n",
       "    <tr style=\"text-align: right;\">\n",
       "      <th></th>\n",
       "      <th>Product_Category</th>\n",
       "      <th>GST</th>\n",
       "    </tr>\n",
       "  </thead>\n",
       "  <tbody>\n",
       "    <tr>\n",
       "      <th>0</th>\n",
       "      <td>Nest-USA</td>\n",
       "      <td>0.1</td>\n",
       "    </tr>\n",
       "    <tr>\n",
       "      <th>1</th>\n",
       "      <td>Office</td>\n",
       "      <td>0.1</td>\n",
       "    </tr>\n",
       "  </tbody>\n",
       "</table>\n",
       "</div>"
      ],
      "text/plain": [
       "  Product_Category  GST\n",
       "0         Nest-USA  0.1\n",
       "1           Office  0.1"
      ]
     },
     "execution_count": 41,
     "metadata": {},
     "output_type": "execute_result"
    }
   ],
   "source": [
    "Taxes = pd.read_excel('../LTV-Capstone-Project/Data/Tax_amount.xlsx', engine='openpyxl')\n",
    "Taxes.head(2)"
   ]
  },
  {
   "cell_type": "code",
   "execution_count": 43,
   "id": "eeb2b2d4",
   "metadata": {},
   "outputs": [
    {
     "data": {
      "text/plain": [
       "Index(['Product_Category', 'GST'], dtype='object')"
      ]
     },
     "execution_count": 43,
     "metadata": {},
     "output_type": "execute_result"
    }
   ],
   "source": [
    "Taxes.columns"
   ]
  },
  {
   "cell_type": "code",
   "execution_count": 28,
   "id": "7a5d57f2",
   "metadata": {},
   "outputs": [
    {
     "name": "stdout",
     "output_type": "stream",
     "text": [
      "['Nest-USA' 'Office' 'Apparel' 'Bags' 'Drinkware' 'Lifestyle'\n",
      " 'Notebooks & Journals' 'Headgear' 'Waze' 'Fun' 'Nest-Canada' 'Backpacks'\n",
      " 'Google' 'Bottles' 'Gift Cards' 'More Bags' 'Housewares' 'Android'\n",
      " 'Accessories' 'Nest']\n"
     ]
    }
   ],
   "source": [
    "print(Taxes['Product_Category'].unique())"
   ]
  },
  {
   "cell_type": "code",
   "execution_count": 45,
   "id": "2008c859",
   "metadata": {},
   "outputs": [],
   "source": [
    "Sales['Month'] = pd.to_datetime(Sales['Transaction_Date']).dt.to_period('M').astype(str)"
   ]
  },
  {
   "cell_type": "code",
   "execution_count": 46,
   "id": "1d875a09",
   "metadata": {},
   "outputs": [],
   "source": [
    "Sales = Sales.merge(Coupon, on=['Month', 'Product_Category'], how='left')\n",
    "# Fill missing Discount_pct with 0 if no coupon was applied\n",
    "Sales['Discount_pct'] = Sales['Discount_pct'].fillna(0)"
   ]
  },
  {
   "cell_type": "code",
   "execution_count": 47,
   "id": "897c5645",
   "metadata": {},
   "outputs": [],
   "source": [
    "# 1. Gross Sales\n",
    "Sales['Gross_Sales'] = Sales['Quantity'] * Sales['Avg_Price']\n",
    "\n",
    "# 2. Discount Amount\n",
    "Sales['Discount_Amount'] = Sales['Gross_Sales'] * (Sales['Discount_pct'] / 100)\n",
    "\n",
    "# 3. Net Subtotal\n",
    "Sales['Net_Subtotal'] = Sales['Gross_Sales'] - Sales['Discount_Amount']\n",
    "\n",
    "# 4. Pre-Tax Total (add delivery)\n",
    "Sales['Pre_Tax_Total'] = Sales['Net_Subtotal'] + Sales['Delivery_Charges']\n",
    "\n",
    "# 5. Merge GST from Taxes table (if not already done)\n",
    "Sales = Sales.merge(Taxes, on='Product_Category', how='left')\n",
    "\n",
    "# 6. GST Amount\n",
    "Sales['GST_Amount'] = Sales['Pre_Tax_Total'] * (Sales['GST'] / 100)\n",
    "\n",
    "# 7. Final Invoice (what customer paid)\n",
    "Sales['Invoice_Value'] = Sales['Pre_Tax_Total'] + Sales['GST_Amount']\n",
    "\n",
    "# 8. Net Revenue (excludes GST remitted to govt)\n",
    "Sales['Net_Revenue'] = Sales['Pre_Tax_Total']"
   ]
  },
  {
   "cell_type": "code",
   "execution_count": 51,
   "id": "328f655f",
   "metadata": {},
   "outputs": [
    {
     "data": {
      "text/html": [
       "<div>\n",
       "<style scoped>\n",
       "    .dataframe tbody tr th:only-of-type {\n",
       "        vertical-align: middle;\n",
       "    }\n",
       "\n",
       "    .dataframe tbody tr th {\n",
       "        vertical-align: top;\n",
       "    }\n",
       "\n",
       "    .dataframe thead th {\n",
       "        text-align: right;\n",
       "    }\n",
       "</style>\n",
       "<table border=\"1\" class=\"dataframe\">\n",
       "  <thead>\n",
       "    <tr style=\"text-align: right;\">\n",
       "      <th></th>\n",
       "      <th>CustomerID</th>\n",
       "      <th>Transaction_ID</th>\n",
       "      <th>Transaction_Date</th>\n",
       "      <th>Product_SKU</th>\n",
       "      <th>Product_Description</th>\n",
       "      <th>Product_Category</th>\n",
       "      <th>Quantity</th>\n",
       "      <th>Avg_Price</th>\n",
       "      <th>Delivery_Charges</th>\n",
       "      <th>Coupon_Status</th>\n",
       "      <th>...</th>\n",
       "      <th>Coupon_Code</th>\n",
       "      <th>Discount_pct</th>\n",
       "      <th>Gross_Sales</th>\n",
       "      <th>Discount_Amount</th>\n",
       "      <th>Net_Subtotal</th>\n",
       "      <th>Pre_Tax_Total</th>\n",
       "      <th>GST</th>\n",
       "      <th>GST_Amount</th>\n",
       "      <th>Invoice_Value</th>\n",
       "      <th>Net_Revenue</th>\n",
       "    </tr>\n",
       "  </thead>\n",
       "  <tbody>\n",
       "    <tr>\n",
       "      <th>0</th>\n",
       "      <td>17850</td>\n",
       "      <td>16679</td>\n",
       "      <td>1/1/2019</td>\n",
       "      <td>GGOENEBJ079499</td>\n",
       "      <td>Nest Learning Thermostat 3rd Gen-USA - Stainle...</td>\n",
       "      <td>Nest-USA</td>\n",
       "      <td>1</td>\n",
       "      <td>153.71</td>\n",
       "      <td>6.5</td>\n",
       "      <td>Used</td>\n",
       "      <td>...</td>\n",
       "      <td>NaN</td>\n",
       "      <td>0.0</td>\n",
       "      <td>153.71</td>\n",
       "      <td>0.0</td>\n",
       "      <td>153.71</td>\n",
       "      <td>160.21</td>\n",
       "      <td>0.1</td>\n",
       "      <td>0.16021</td>\n",
       "      <td>160.37021</td>\n",
       "      <td>160.21</td>\n",
       "    </tr>\n",
       "    <tr>\n",
       "      <th>1</th>\n",
       "      <td>17850</td>\n",
       "      <td>16680</td>\n",
       "      <td>1/1/2019</td>\n",
       "      <td>GGOENEBJ079499</td>\n",
       "      <td>Nest Learning Thermostat 3rd Gen-USA - Stainle...</td>\n",
       "      <td>Nest-USA</td>\n",
       "      <td>1</td>\n",
       "      <td>153.71</td>\n",
       "      <td>6.5</td>\n",
       "      <td>Used</td>\n",
       "      <td>...</td>\n",
       "      <td>NaN</td>\n",
       "      <td>0.0</td>\n",
       "      <td>153.71</td>\n",
       "      <td>0.0</td>\n",
       "      <td>153.71</td>\n",
       "      <td>160.21</td>\n",
       "      <td>0.1</td>\n",
       "      <td>0.16021</td>\n",
       "      <td>160.37021</td>\n",
       "      <td>160.21</td>\n",
       "    </tr>\n",
       "  </tbody>\n",
       "</table>\n",
       "<p>2 rows × 21 columns</p>\n",
       "</div>"
      ],
      "text/plain": [
       "   CustomerID  Transaction_ID Transaction_Date     Product_SKU  \\\n",
       "0       17850           16679         1/1/2019  GGOENEBJ079499   \n",
       "1       17850           16680         1/1/2019  GGOENEBJ079499   \n",
       "\n",
       "                                 Product_Description Product_Category  \\\n",
       "0  Nest Learning Thermostat 3rd Gen-USA - Stainle...         Nest-USA   \n",
       "1  Nest Learning Thermostat 3rd Gen-USA - Stainle...         Nest-USA   \n",
       "\n",
       "   Quantity  Avg_Price  Delivery_Charges Coupon_Status  ... Coupon_Code  \\\n",
       "0         1     153.71               6.5          Used  ...         NaN   \n",
       "1         1     153.71               6.5          Used  ...         NaN   \n",
       "\n",
       "  Discount_pct  Gross_Sales  Discount_Amount  Net_Subtotal  Pre_Tax_Total  \\\n",
       "0          0.0       153.71              0.0        153.71         160.21   \n",
       "1          0.0       153.71              0.0        153.71         160.21   \n",
       "\n",
       "   GST  GST_Amount  Invoice_Value  Net_Revenue  \n",
       "0  0.1     0.16021      160.37021       160.21  \n",
       "1  0.1     0.16021      160.37021       160.21  \n",
       "\n",
       "[2 rows x 21 columns]"
      ]
     },
     "execution_count": 51,
     "metadata": {},
     "output_type": "execute_result"
    }
   ],
   "source": [
    "Sales.head(2)"
   ]
  },
  {
   "cell_type": "code",
   "execution_count": 52,
   "id": "c50da8ee",
   "metadata": {},
   "outputs": [
    {
     "name": "stdout",
     "output_type": "stream",
     "text": [
      "   CustomerID  Historical_LTV\n",
      "0       12346          180.99\n",
      "1       12347        14500.04\n",
      "2       12348         1639.27\n",
      "3       12350         1487.95\n",
      "4       12356         2079.96\n"
     ]
    }
   ],
   "source": [
    "historical_ltv = Sales.groupby('CustomerID')['Net_Revenue'].sum().reset_index()\n",
    "historical_ltv.columns = ['CustomerID', 'Historical_LTV']\n",
    "print(historical_ltv.head())"
   ]
  },
  {
   "cell_type": "code",
   "execution_count": 53,
   "id": "e3715faf",
   "metadata": {},
   "outputs": [
    {
     "name": "stdout",
     "output_type": "stream",
     "text": [
      "Collecting lifetimes\n",
      "  Downloading Lifetimes-0.11.3-py3-none-any.whl.metadata (4.8 kB)\n",
      "Requirement already satisfied: numpy>=1.10.0 in c:\\users\\dbyst\\miniconda3\\lib\\site-packages (from lifetimes) (2.3.0)\n",
      "Requirement already satisfied: scipy>=1.0.0 in c:\\users\\dbyst\\miniconda3\\lib\\site-packages (from lifetimes) (1.16.0)\n",
      "Requirement already satisfied: pandas>=0.24.0 in c:\\users\\dbyst\\miniconda3\\lib\\site-packages (from lifetimes) (2.3.0)\n",
      "Collecting autograd>=1.2.0 (from lifetimes)\n",
      "  Downloading autograd-1.8.0-py3-none-any.whl.metadata (7.5 kB)\n",
      "Collecting dill>=0.2.6 (from lifetimes)\n",
      "  Downloading dill-0.4.0-py3-none-any.whl.metadata (10 kB)\n",
      "Requirement already satisfied: python-dateutil>=2.8.2 in c:\\users\\dbyst\\miniconda3\\lib\\site-packages (from pandas>=0.24.0->lifetimes) (2.9.0.post0)\n",
      "Requirement already satisfied: pytz>=2020.1 in c:\\users\\dbyst\\miniconda3\\lib\\site-packages (from pandas>=0.24.0->lifetimes) (2025.2)\n",
      "Requirement already satisfied: tzdata>=2022.7 in c:\\users\\dbyst\\miniconda3\\lib\\site-packages (from pandas>=0.24.0->lifetimes) (2025.2)\n",
      "Requirement already satisfied: six>=1.5 in c:\\users\\dbyst\\miniconda3\\lib\\site-packages (from python-dateutil>=2.8.2->pandas>=0.24.0->lifetimes) (1.17.0)\n",
      "Downloading Lifetimes-0.11.3-py3-none-any.whl (584 kB)\n",
      "   ---------------------------------------- 0.0/584.2 kB ? eta -:--:--\n",
      "   ---------------------------------------- 0.0/584.2 kB ? eta -:--:--\n",
      "   ---------------------------------------- 0.0/584.2 kB ? eta -:--:--\n",
      "   ---------------------------------------- 0.0/584.2 kB ? eta -:--:--\n",
      "   ----------------- ---------------------- 262.1/584.2 kB ? eta -:--:--\n",
      "   ----------------- ---------------------- 262.1/584.2 kB ? eta -:--:--\n",
      "   ----------------- ---------------------- 262.1/584.2 kB ? eta -:--:--\n",
      "   ----------------- ---------------------- 262.1/584.2 kB ? eta -:--:--\n",
      "   ----------------- ---------------------- 262.1/584.2 kB ? eta -:--:--\n",
      "   -------------------------------------- 584.2/584.2 kB 288.7 kB/s eta 0:00:00\n",
      "Downloading autograd-1.8.0-py3-none-any.whl (51 kB)\n",
      "Downloading dill-0.4.0-py3-none-any.whl (119 kB)\n",
      "Installing collected packages: dill, autograd, lifetimes\n",
      "Successfully installed autograd-1.8.0 dill-0.4.0 lifetimes-0.11.3\n",
      "Note: you may need to restart the kernel to use updated packages.\n"
     ]
    }
   ],
   "source": [
    "pip install lifetimes"
   ]
  },
  {
   "cell_type": "code",
   "execution_count": 54,
   "id": "40bec2d2",
   "metadata": {},
   "outputs": [
    {
     "name": "stdout",
     "output_type": "stream",
     "text": [
      "            frequency  recency      T  monetary_value\n",
      "CustomerID                                           \n",
      "12347             0.0      0.0  169.0            0.00\n",
      "12348             0.0      0.0   79.0            0.00\n",
      "12359             0.0      0.0   17.0            0.00\n",
      "12370             1.0     30.0  106.0          691.79\n",
      "12377             0.0      0.0   66.0            0.00\n"
     ]
    }
   ],
   "source": [
    "from lifetimes.utils import summary_data_from_transaction_data\n",
    "\n",
    "# Use the Sales DataFrame with 'CustomerID' and 'Transaction_Date'\n",
    "summary = summary_data_from_transaction_data(Sales, \n",
    "                                             customer_id_col='CustomerID',\n",
    "                                             datetime_col='Transaction_Date',\n",
    "                                             monetary_value_col='Net_Revenue',\n",
    "                                             observation_period_end=Sales['Transaction_Date'].max())\n",
    "\n",
    "print(summary.head())"
   ]
  },
  {
   "cell_type": "code",
   "execution_count": 55,
   "id": "3ef139e8",
   "metadata": {},
   "outputs": [
    {
     "data": {
      "text/plain": [
       "<lifetimes.BetaGeoFitter: fitted with 1153 subjects, a: 0.50, alpha: 61.81, b: 1.46, r: 0.61>"
      ]
     },
     "execution_count": 55,
     "metadata": {},
     "output_type": "execute_result"
    }
   ],
   "source": [
    "from lifetimes import BetaGeoFitter\n",
    "\n",
    "bgf = BetaGeoFitter()\n",
    "bgf.fit(summary['frequency'], summary['recency'], summary['T'])"
   ]
  },
  {
   "cell_type": "code",
   "execution_count": 56,
   "id": "10de3099",
   "metadata": {},
   "outputs": [
    {
     "data": {
      "text/plain": [
       "<lifetimes.GammaGammaFitter: fitted with 534 subjects, p: 0.62, q: 3.84, v: 6323.75>"
      ]
     },
     "execution_count": 56,
     "metadata": {},
     "output_type": "execute_result"
    }
   ],
   "source": [
    "from lifetimes import GammaGammaFitter\n",
    "\n",
    "# Only use customers with freq > 0\n",
    "returning_customers = summary[summary['frequency'] > 0]\n",
    "\n",
    "ggf = GammaGammaFitter()\n",
    "ggf.fit(returning_customers['frequency'], returning_customers['monetary_value'])"
   ]
  },
  {
   "cell_type": "code",
   "execution_count": 57,
   "id": "663aa82e",
   "metadata": {},
   "outputs": [
    {
     "data": {
      "text/html": [
       "<div>\n",
       "<style scoped>\n",
       "    .dataframe tbody tr th:only-of-type {\n",
       "        vertical-align: middle;\n",
       "    }\n",
       "\n",
       "    .dataframe tbody tr th {\n",
       "        vertical-align: top;\n",
       "    }\n",
       "\n",
       "    .dataframe thead th {\n",
       "        text-align: right;\n",
       "    }\n",
       "</style>\n",
       "<table border=\"1\" class=\"dataframe\">\n",
       "  <thead>\n",
       "    <tr style=\"text-align: right;\">\n",
       "      <th></th>\n",
       "      <th>predicted_LTV_6m</th>\n",
       "    </tr>\n",
       "    <tr>\n",
       "      <th>CustomerID</th>\n",
       "      <th></th>\n",
       "    </tr>\n",
       "  </thead>\n",
       "  <tbody>\n",
       "    <tr>\n",
       "      <th>12748</th>\n",
       "      <td>40371.721208</td>\n",
       "    </tr>\n",
       "    <tr>\n",
       "      <th>15311</th>\n",
       "      <td>23080.506672</td>\n",
       "    </tr>\n",
       "    <tr>\n",
       "      <th>17841</th>\n",
       "      <td>18169.249006</td>\n",
       "    </tr>\n",
       "    <tr>\n",
       "      <th>14911</th>\n",
       "      <td>15120.130532</td>\n",
       "    </tr>\n",
       "    <tr>\n",
       "      <th>14606</th>\n",
       "      <td>13327.959479</td>\n",
       "    </tr>\n",
       "  </tbody>\n",
       "</table>\n",
       "</div>"
      ],
      "text/plain": [
       "            predicted_LTV_6m\n",
       "CustomerID                  \n",
       "12748           40371.721208\n",
       "15311           23080.506672\n",
       "17841           18169.249006\n",
       "14911           15120.130532\n",
       "14606           13327.959479"
      ]
     },
     "execution_count": 57,
     "metadata": {},
     "output_type": "execute_result"
    }
   ],
   "source": [
    "# Predict expected number of purchases\n",
    "summary['predicted_purchases_6m'] = bgf.conditional_expected_number_of_purchases_up_to_time(180,\n",
    "            summary['frequency'], summary['recency'], summary['T'])\n",
    "\n",
    "# Predict expected average revenue\n",
    "summary['predicted_avg_value'] = ggf.conditional_expected_average_profit(summary['frequency'], summary['monetary_value'])\n",
    "\n",
    "# Final LTV\n",
    "summary['predicted_LTV_6m'] = summary['predicted_purchases_6m'] * summary['predicted_avg_value']\n",
    "\n",
    "# View top customers by predicted LTV\n",
    "summary[['predicted_LTV_6m']].sort_values(by='predicted_LTV_6m', ascending=False).head()"
   ]
  },
  {
   "cell_type": "code",
   "execution_count": null,
   "id": "95b55751",
   "metadata": {},
   "outputs": [],
   "source": [
    "# Merge with demographics or customer segments\n",
    "ltv_final = summary.reset_index().merge(CustomersData, on='CustomerID', how='left')\n",
    "\n",
    "# Export to CSV for Tableau\n",
    "ltv_final.to_csv(\"Customer_LTV_Summary.csv\", index=False)"
   ]
  },
  {
   "cell_type": "code",
   "execution_count": 68,
   "id": "dcd1372b",
   "metadata": {},
   "outputs": [
    {
     "name": "stdout",
     "output_type": "stream",
     "text": [
      "c:\\Users\\dbyst\\OneDrive\\Desktop\\Neue Fische Bootcamp\\da-analytics-engineering-project\n"
     ]
    }
   ],
   "source": [
    "import os\n",
    "print(os.getcwd())"
   ]
  }
 ],
 "metadata": {
  "kernelspec": {
   "display_name": "base",
   "language": "python",
   "name": "python3"
  },
  "language_info": {
   "codemirror_mode": {
    "name": "ipython",
    "version": 3
   },
   "file_extension": ".py",
   "mimetype": "text/x-python",
   "name": "python",
   "nbconvert_exporter": "python",
   "pygments_lexer": "ipython3",
   "version": "3.13.2"
  }
 },
 "nbformat": 4,
 "nbformat_minor": 5
}
